{
  "nbformat": 4,
  "nbformat_minor": 0,
  "metadata": {
    "colab": {
      "name": "Math QA test",
      "provenance": [],
      "collapsed_sections": []
    },
    "kernelspec": {
      "name": "python3",
      "display_name": "Python 3"
    },
    "accelerator": "GPU"
  },
  "cells": [
    {
      "cell_type": "markdown",
      "metadata": {
        "id": "4urtFPNCmFEK"
      },
      "source": [
        "## Notebook Setup"
      ]
    },
    {
      "cell_type": "code",
      "metadata": {
        "id": "uQ-QVaZ5jOkq",
        "outputId": "4cbb2615-c6ac-4a9c-e513-f49a767d096a",
        "colab": {
          "base_uri": "https://localhost:8080/"
        }
      },
      "source": [
        "from google.colab import drive\n",
        "drive.mount('/content/drive')\n",
        "%cd drive\n",
        "%cd My\\ Drive\n",
        "%mkdir mathbot\n",
        "%cd /content/\n",
        "!ls\n",
        "!git clone https://github.com/mohamad-ali-nasser/gpt-2.git\n",
        "%cd gpt-2\n",
        "!python3 download_model.py 345M\n"
      ],
      "execution_count": null,
      "outputs": [
        {
          "output_type": "stream",
          "text": [
            "Drive already mounted at /content/drive; to attempt to forcibly remount, call drive.mount(\"/content/drive\", force_remount=True).\n",
            "/content/drive\n",
            "/content/drive/My Drive\n",
            "mkdir: cannot create directory ‘mathbot’: File exists\n",
            "/content\n",
            "drive  gpt-2  sample_data\n",
            "fatal: destination path 'gpt-2' already exists and is not an empty directory.\n",
            "/content/gpt-2\n",
            "Fetching checkpoint: 1.00kit [00:00, 1.20Mit/s]                                                     \n",
            "Fetching encoder.json: 1.04Mit [00:00, 55.1Mit/s]                                                   \n",
            "Fetching hparams.json: 1.00kit [00:00, 1.35Mit/s]                                                   \n",
            "Fetching model.ckpt.data-00000-of-00001: 1.42Git [00:17, 81.4Mit/s]                                 \n",
            "Fetching model.ckpt.index: 11.0kit [00:00, 10.6Mit/s]                                               \n",
            "Fetching model.ckpt.meta: 927kit [00:00, 67.2Mit/s]                                                 \n",
            "Fetching vocab.bpe: 457kit [00:00, 65.0Mit/s]                                                       \n"
          ],
          "name": "stdout"
        }
      ]
    },
    {
      "cell_type": "markdown",
      "metadata": {
        "id": "fcrxVFrVo1KG"
      },
      "source": [
        "## Create Corpus"
      ]
    },
    {
      "cell_type": "code",
      "metadata": {
        "id": "2KSPSHjypEQ2"
      },
      "source": [
        "%cd src\n",
        "%mkdir corpus\n",
        "%cd corpus/\n",
        "!export PYTHONIOENCODING=UTF-8\n",
        "import requests\n",
        "import os\n",
        "file_name = \"NAME_OF_TEXT.csv\"\n",
        "if not os.path.isfile(file_name):\n",
        "    url = \"https://raw.githubusercontent.com/dawei-wang/Math-QA/main/raw_text.csv\"\n",
        "    data = requests.get(url)\n",
        "with open(file_name, 'w') as f:\n",
        "         f.write(data.text)\n",
        "f.close()"
      ],
      "execution_count": null,
      "outputs": []
    },
    {
      "cell_type": "markdown",
      "metadata": {
        "id": "ldUO0K4hs_uK"
      },
      "source": [
        "## Download libraries and CUDA"
      ]
    },
    {
      "cell_type": "code",
      "metadata": {
        "id": "ANrQummXuC_6",
        "outputId": "d5786bac-0dca-4898-bb85-b5060061a833",
        "colab": {
          "base_uri": "https://localhost:8080/"
        }
      },
      "source": [
        "# Move into gpt-2 folder\n",
        "%cd /content/gpt-2\n",
        "!pip3 install -r requirements.txt\n",
        "!pip install tensorflow-gpu==1.15.0\n",
        "!pip install 'tensorflow-estimator<1.15.0rc0,>=1.14.0rc0' --force-reinstall\n",
        "!wget https://developer.nvidia.com/compute/cuda/9.0/Prod/local_installers/cuda-repo-ubuntu1604-9-0-local_9.0.176-1_amd64-deb\n",
        "!dpkg -i cuda-repo-ubuntu1604-9-0-local_9.0.176-1_amd64-deb\n",
        "!apt-key add /var/cuda-repo-*/7fa2af80.pub\n",
        "!apt-get update\n",
        "!apt-get install cuda-9-0\n",
        "!export LD_LIBRARY_PATH=$LD_LIBRARY_PATH:/usr/local/cuda-9.0/lib64/\n",
        "%cd gpt-2"
      ],
      "execution_count": null,
      "outputs": [
        {
          "output_type": "stream",
          "text": [
            "/content/gpt-2\n",
            "Requirement already satisfied: fire>=0.1.3 in /usr/local/lib/python3.6/dist-packages (from -r requirements.txt (line 1)) (0.3.1)\n",
            "Requirement already satisfied: regex==2017.4.5 in /usr/local/lib/python3.6/dist-packages (from -r requirements.txt (line 2)) (2017.4.5)\n",
            "Requirement already satisfied: requests==2.21.0 in /usr/local/lib/python3.6/dist-packages (from -r requirements.txt (line 3)) (2.21.0)\n",
            "Requirement already satisfied: tqdm==4.31.1 in /usr/local/lib/python3.6/dist-packages (from -r requirements.txt (line 4)) (4.31.1)\n",
            "Requirement already satisfied: toposort==1.5 in /usr/local/lib/python3.6/dist-packages (from -r requirements.txt (line 5)) (1.5)\n",
            "Requirement already satisfied: termcolor in /usr/local/lib/python3.6/dist-packages (from fire>=0.1.3->-r requirements.txt (line 1)) (1.1.0)\n",
            "Requirement already satisfied: six in /usr/local/lib/python3.6/dist-packages (from fire>=0.1.3->-r requirements.txt (line 1)) (1.15.0)\n",
            "Requirement already satisfied: idna<2.9,>=2.5 in /usr/local/lib/python3.6/dist-packages (from requests==2.21.0->-r requirements.txt (line 3)) (2.8)\n",
            "Requirement already satisfied: urllib3<1.25,>=1.21.1 in /usr/local/lib/python3.6/dist-packages (from requests==2.21.0->-r requirements.txt (line 3)) (1.24.3)\n",
            "Requirement already satisfied: chardet<3.1.0,>=3.0.2 in /usr/local/lib/python3.6/dist-packages (from requests==2.21.0->-r requirements.txt (line 3)) (3.0.4)\n",
            "Requirement already satisfied: certifi>=2017.4.17 in /usr/local/lib/python3.6/dist-packages (from requests==2.21.0->-r requirements.txt (line 3)) (2020.6.20)\n",
            "Requirement already satisfied: tensorflow-gpu==1.15.0 in /usr/local/lib/python3.6/dist-packages (1.15.0)\n",
            "Requirement already satisfied: opt-einsum>=2.3.2 in /usr/local/lib/python3.6/dist-packages (from tensorflow-gpu==1.15.0) (3.3.0)\n",
            "Requirement already satisfied: wheel>=0.26 in /usr/local/lib/python3.6/dist-packages (from tensorflow-gpu==1.15.0) (0.35.1)\n",
            "Requirement already satisfied: six>=1.10.0 in /usr/local/lib/python3.6/dist-packages (from tensorflow-gpu==1.15.0) (1.15.0)\n",
            "Requirement already satisfied: termcolor>=1.1.0 in /usr/local/lib/python3.6/dist-packages (from tensorflow-gpu==1.15.0) (1.1.0)\n",
            "Requirement already satisfied: tensorboard<1.16.0,>=1.15.0 in /usr/local/lib/python3.6/dist-packages (from tensorflow-gpu==1.15.0) (1.15.0)\n",
            "Requirement already satisfied: gast==0.2.2 in /usr/local/lib/python3.6/dist-packages (from tensorflow-gpu==1.15.0) (0.2.2)\n",
            "Requirement already satisfied: keras-preprocessing>=1.0.5 in /usr/local/lib/python3.6/dist-packages (from tensorflow-gpu==1.15.0) (1.1.2)\n",
            "Requirement already satisfied: wrapt>=1.11.1 in /usr/local/lib/python3.6/dist-packages (from tensorflow-gpu==1.15.0) (1.12.1)\n",
            "Requirement already satisfied: grpcio>=1.8.6 in /usr/local/lib/python3.6/dist-packages (from tensorflow-gpu==1.15.0) (1.33.2)\n",
            "Requirement already satisfied: keras-applications>=1.0.8 in /usr/local/lib/python3.6/dist-packages (from tensorflow-gpu==1.15.0) (1.0.8)\n",
            "Requirement already satisfied: google-pasta>=0.1.6 in /usr/local/lib/python3.6/dist-packages (from tensorflow-gpu==1.15.0) (0.2.0)\n",
            "Requirement already satisfied: protobuf>=3.6.1 in /usr/local/lib/python3.6/dist-packages (from tensorflow-gpu==1.15.0) (3.12.4)\n",
            "Collecting tensorflow-estimator==1.15.1\n",
            "  Using cached https://files.pythonhosted.org/packages/de/62/2ee9cd74c9fa2fa450877847ba560b260f5d0fb70ee0595203082dafcc9d/tensorflow_estimator-1.15.1-py2.py3-none-any.whl\n",
            "Requirement already satisfied: numpy<2.0,>=1.16.0 in /usr/local/lib/python3.6/dist-packages (from tensorflow-gpu==1.15.0) (1.18.5)\n",
            "Requirement already satisfied: astor>=0.6.0 in /usr/local/lib/python3.6/dist-packages (from tensorflow-gpu==1.15.0) (0.8.1)\n",
            "Requirement already satisfied: absl-py>=0.7.0 in /usr/local/lib/python3.6/dist-packages (from tensorflow-gpu==1.15.0) (0.10.0)\n",
            "Requirement already satisfied: markdown>=2.6.8 in /usr/local/lib/python3.6/dist-packages (from tensorboard<1.16.0,>=1.15.0->tensorflow-gpu==1.15.0) (3.3.3)\n",
            "Requirement already satisfied: werkzeug>=0.11.15 in /usr/local/lib/python3.6/dist-packages (from tensorboard<1.16.0,>=1.15.0->tensorflow-gpu==1.15.0) (1.0.1)\n",
            "Requirement already satisfied: setuptools>=41.0.0 in /usr/local/lib/python3.6/dist-packages (from tensorboard<1.16.0,>=1.15.0->tensorflow-gpu==1.15.0) (50.3.2)\n",
            "Requirement already satisfied: h5py in /usr/local/lib/python3.6/dist-packages (from keras-applications>=1.0.8->tensorflow-gpu==1.15.0) (2.10.0)\n",
            "Requirement already satisfied: importlib-metadata; python_version < \"3.8\" in /usr/local/lib/python3.6/dist-packages (from markdown>=2.6.8->tensorboard<1.16.0,>=1.15.0->tensorflow-gpu==1.15.0) (2.0.0)\n",
            "Requirement already satisfied: zipp>=0.5 in /usr/local/lib/python3.6/dist-packages (from importlib-metadata; python_version < \"3.8\"->markdown>=2.6.8->tensorboard<1.16.0,>=1.15.0->tensorflow-gpu==1.15.0) (3.4.0)\n",
            "\u001b[31mERROR: tensorflow 2.3.0 has requirement gast==0.3.3, but you'll have gast 0.2.2 which is incompatible.\u001b[0m\n",
            "\u001b[31mERROR: tensorflow 2.3.0 has requirement tensorboard<3,>=2.3.0, but you'll have tensorboard 1.15.0 which is incompatible.\u001b[0m\n",
            "\u001b[31mERROR: tensorflow 2.3.0 has requirement tensorflow-estimator<2.4.0,>=2.3.0, but you'll have tensorflow-estimator 1.15.1 which is incompatible.\u001b[0m\n",
            "Installing collected packages: tensorflow-estimator\n",
            "  Found existing installation: tensorflow-estimator 1.14.0\n",
            "    Uninstalling tensorflow-estimator-1.14.0:\n",
            "      Successfully uninstalled tensorflow-estimator-1.14.0\n",
            "Successfully installed tensorflow-estimator-1.15.1\n",
            "Collecting tensorflow-estimator<1.15.0rc0,>=1.14.0rc0\n",
            "  Using cached https://files.pythonhosted.org/packages/3c/d5/21860a5b11caf0678fbc8319341b0ae21a07156911132e0e71bffed0510d/tensorflow_estimator-1.14.0-py2.py3-none-any.whl\n",
            "\u001b[31mERROR: tensorflow 2.3.0 has requirement gast==0.3.3, but you'll have gast 0.2.2 which is incompatible.\u001b[0m\n",
            "\u001b[31mERROR: tensorflow 2.3.0 has requirement tensorboard<3,>=2.3.0, but you'll have tensorboard 1.15.0 which is incompatible.\u001b[0m\n",
            "\u001b[31mERROR: tensorflow 2.3.0 has requirement tensorflow-estimator<2.4.0,>=2.3.0, but you'll have tensorflow-estimator 1.14.0 which is incompatible.\u001b[0m\n",
            "\u001b[31mERROR: tensorflow-gpu 1.15.0 has requirement tensorflow-estimator==1.15.1, but you'll have tensorflow-estimator 1.14.0 which is incompatible.\u001b[0m\n",
            "Installing collected packages: tensorflow-estimator\n",
            "  Found existing installation: tensorflow-estimator 1.15.1\n",
            "    Uninstalling tensorflow-estimator-1.15.1:\n",
            "      Successfully uninstalled tensorflow-estimator-1.15.1\n",
            "Successfully installed tensorflow-estimator-1.14.0\n",
            "--2020-11-14 04:39:27--  https://developer.nvidia.com/compute/cuda/9.0/Prod/local_installers/cuda-repo-ubuntu1604-9-0-local_9.0.176-1_amd64-deb\n",
            "Resolving developer.nvidia.com (developer.nvidia.com)... 152.199.0.24\n",
            "Connecting to developer.nvidia.com (developer.nvidia.com)|152.199.0.24|:443... connected.\n",
            "HTTP request sent, awaiting response... 302 Found\n",
            "Location: https://developer.download.nvidia.com/compute/cuda/9.0/secure/Prod/local_installers/cuda-repo-ubuntu1604-9-0-local_9.0.176-1_amd64.deb?LVHvFNUeLBmaXGfmm0E0nGVVvO4y-R7jR1eJBJFYkhQDGh5Riz5HFGXX1Vpbtz0ZvjG_VND0L25yuUfzuMdnzfzxOuItgwzxWp4rBcLl6JmPOlLB-JT-HhVdn-5FI5PCkSK3KYOKvHzgF7kcOH-MTbLmLUNIMgGDWHlMPhzxAA6w-cHJjT2TOyRmLLKKH83zSQiPPTfxC_sYEab8vUZa [following]\n",
            "--2020-11-14 04:39:27--  https://developer.download.nvidia.com/compute/cuda/9.0/secure/Prod/local_installers/cuda-repo-ubuntu1604-9-0-local_9.0.176-1_amd64.deb?LVHvFNUeLBmaXGfmm0E0nGVVvO4y-R7jR1eJBJFYkhQDGh5Riz5HFGXX1Vpbtz0ZvjG_VND0L25yuUfzuMdnzfzxOuItgwzxWp4rBcLl6JmPOlLB-JT-HhVdn-5FI5PCkSK3KYOKvHzgF7kcOH-MTbLmLUNIMgGDWHlMPhzxAA6w-cHJjT2TOyRmLLKKH83zSQiPPTfxC_sYEab8vUZa\n",
            "Resolving developer.download.nvidia.com (developer.download.nvidia.com)... 152.195.19.142\n",
            "Connecting to developer.download.nvidia.com (developer.download.nvidia.com)|152.195.19.142|:443... connected.\n",
            "HTTP request sent, awaiting response... 200 OK\n",
            "Length: 1212738714 (1.1G) [application/x-deb]\n",
            "Saving to: ‘cuda-repo-ubuntu1604-9-0-local_9.0.176-1_amd64-deb.1’\n",
            "\n",
            "cuda-repo-ubuntu160 100%[===================>]   1.13G   229MB/s    in 4.8s    \n",
            "\n",
            "2020-11-14 04:39:32 (240 MB/s) - ‘cuda-repo-ubuntu1604-9-0-local_9.0.176-1_amd64-deb.1’ saved [1212738714/1212738714]\n",
            "\n",
            "Selecting previously unselected package cuda-repo-ubuntu1604-9-0-local.\n",
            "(Reading database ... 144786 files and directories currently installed.)\n",
            "Preparing to unpack cuda-repo-ubuntu1604-9-0-local_9.0.176-1_amd64-deb ...\n",
            "Unpacking cuda-repo-ubuntu1604-9-0-local (9.0.176-1) ...\n",
            "dpkg-deb (subprocess): cannot copy archive member from 'cuda-repo-ubuntu1604-9-0-local_9.0.176-1_amd64-deb' to decompressor pipe: unexpected end of file or stream\n",
            "dpkg-deb (subprocess): decompressing archive member: lzma error: unexpected end of input\n",
            "dpkg-deb: error: <decompress> subprocess returned error exit status 2\n",
            "\u001b[1mdpkg:\u001b[0m error processing archive cuda-repo-ubuntu1604-9-0-local_9.0.176-1_amd64-deb (--install):\n",
            " cannot copy extracted data for './var/cuda-repo-9-0-local/cuda-npp-9-0_9.0.176-1_amd64.deb' to '/var/cuda-repo-9-0-local/cuda-npp-9-0_9.0.176-1_amd64.deb.dpkg-new': unexpected end of file or stream\n",
            "Errors were encountered while processing:\n",
            " cuda-repo-ubuntu1604-9-0-local_9.0.176-1_amd64-deb\n",
            "gpg: can't open '/var/cuda-repo-*/7fa2af80.pub': No such file or directory\n",
            "Get:1 http://security.ubuntu.com/ubuntu bionic-security InRelease [88.7 kB]\n",
            "Get:2 https://cloud.r-project.org/bin/linux/ubuntu bionic-cran40/ InRelease [3,626 B]\n",
            "Ign:3 https://developer.download.nvidia.com/compute/cuda/repos/ubuntu1804/x86_64  InRelease\n",
            "Get:4 http://ppa.launchpad.net/c2d4u.team/c2d4u4.0+/ubuntu bionic InRelease [15.9 kB]\n",
            "Hit:5 http://archive.ubuntu.com/ubuntu bionic InRelease\n",
            "Ign:6 https://developer.download.nvidia.com/compute/machine-learning/repos/ubuntu1804/x86_64  InRelease\n",
            "Get:7 https://developer.download.nvidia.com/compute/cuda/repos/ubuntu1804/x86_64  Release [697 B]\n",
            "Get:8 https://developer.download.nvidia.com/compute/machine-learning/repos/ubuntu1804/x86_64  Release [564 B]\n",
            "Get:9 https://developer.download.nvidia.com/compute/cuda/repos/ubuntu1804/x86_64  Release.gpg [836 B]\n",
            "Get:10 https://developer.download.nvidia.com/compute/machine-learning/repos/ubuntu1804/x86_64  Release.gpg [833 B]\n",
            "Get:11 http://archive.ubuntu.com/ubuntu bionic-updates InRelease [88.7 kB]\n",
            "Get:12 http://security.ubuntu.com/ubuntu bionic-security/main amd64 Packages [1,781 kB]\n",
            "Get:13 http://ppa.launchpad.net/graphics-drivers/ppa/ubuntu bionic InRelease [21.3 kB]\n",
            "Get:14 http://security.ubuntu.com/ubuntu bionic-security/restricted amd64 Packages [222 kB]\n",
            "Get:15 http://security.ubuntu.com/ubuntu bionic-security/universe amd64 Packages [1,365 kB]\n",
            "Get:16 http://security.ubuntu.com/ubuntu bionic-security/multiverse amd64 Packages [15.8 kB]\n",
            "Get:17 http://archive.ubuntu.com/ubuntu bionic-backports InRelease [74.6 kB]\n",
            "Ign:18 https://developer.download.nvidia.com/compute/cuda/repos/ubuntu1804/x86_64  Packages\n",
            "Get:18 https://developer.download.nvidia.com/compute/cuda/repos/ubuntu1804/x86_64  Packages [407 kB]\n",
            "Get:19 https://developer.download.nvidia.com/compute/machine-learning/repos/ubuntu1804/x86_64  Packages [58.5 kB]\n",
            "Get:20 http://ppa.launchpad.net/c2d4u.team/c2d4u4.0+/ubuntu bionic/main Sources [1,688 kB]\n",
            "Get:21 http://archive.ubuntu.com/ubuntu bionic-updates/multiverse amd64 Packages [46.3 kB]\n",
            "Get:22 http://archive.ubuntu.com/ubuntu bionic-updates/universe amd64 Packages [2,129 kB]\n",
            "Get:23 http://archive.ubuntu.com/ubuntu bionic-updates/main amd64 Packages [2,198 kB]\n",
            "Get:24 http://archive.ubuntu.com/ubuntu bionic-updates/restricted amd64 Packages [247 kB]\n",
            "Get:25 http://ppa.launchpad.net/c2d4u.team/c2d4u4.0+/ubuntu bionic/main amd64 Packages [864 kB]\n",
            "Get:26 http://ppa.launchpad.net/graphics-drivers/ppa/ubuntu bionic/main amd64 Packages [46.6 kB]\n",
            "Fetched 11.4 MB in 3s (4,191 kB/s)\n",
            "Reading package lists... Done\n",
            "Reading package lists... Done\n",
            "Building dependency tree       \n",
            "Reading state information... Done\n",
            "E: Unable to locate package cuda-9-0\n",
            "[Errno 2] No such file or directory: 'gpt-2'\n",
            "/content/gpt-2\n"
          ],
          "name": "stdout"
        }
      ]
    },
    {
      "cell_type": "markdown",
      "metadata": {
        "id": "7nk09B71xRDJ"
      },
      "source": [
        "## Model Training"
      ]
    },
    {
      "cell_type": "code",
      "metadata": {
        "id": "ROOyzjrPxi8Z",
        "outputId": "b03f633f-e769-4d58-a942-4af775170fa2",
        "colab": {
          "base_uri": "https://localhost:8080/"
        }
      },
      "source": [
        "!PYTHONPATH=src ./train.py --dataset src/corpus/corpus.txt --model_name '345M' --batch_size 1 --learning_rate 0.00001\n",
        "!cp -r /content/gpt-2/checkpoint/mathbot/content/drive/My\\ Drive/checkpoint\n",
        "!cp -r /content/gpt-2/checkpoint/run1/mathbot/content/gpt-2/models/345M/"
      ],
      "execution_count": null,
      "outputs": [
        {
          "output_type": "stream",
          "text": [
            "WARNING:tensorflow:From /content/gpt-2/src/model.py:147: The name tf.AUTO_REUSE is deprecated. Please use tf.compat.v1.AUTO_REUSE instead.\n",
            "\n",
            "WARNING:tensorflow:\n",
            "The TensorFlow contrib module will not be included in TensorFlow 2.0.\n",
            "For more information, please see:\n",
            "  * https://github.com/tensorflow/community/blob/master/rfcs/20180907-contrib-sunset.md\n",
            "  * https://github.com/tensorflow/addons\n",
            "  * https://github.com/tensorflow/io (for I/O related ops)\n",
            "If you depend on functionality not listed there, please file an issue.\n",
            "\n",
            "WARNING:tensorflow:From /content/gpt-2/src/memory_saving_gradients.py:13: The name tf.GraphKeys is deprecated. Please use tf.compat.v1.GraphKeys instead.\n",
            "\n",
            "WARNING:tensorflow:From ./train.py:88: The name tf.ConfigProto is deprecated. Please use tf.compat.v1.ConfigProto instead.\n",
            "\n",
            "WARNING:tensorflow:From ./train.py:91: The name tf.Session is deprecated. Please use tf.compat.v1.Session instead.\n",
            "\n",
            "2020-11-14 04:40:17.454190: I tensorflow/core/platform/cpu_feature_guard.cc:142] Your CPU supports instructions that this TensorFlow binary was not compiled to use: AVX2 FMA\n",
            "2020-11-14 04:40:17.459983: I tensorflow/core/platform/profile_utils/cpu_utils.cc:94] CPU Frequency: 2200000000 Hz\n",
            "2020-11-14 04:40:17.460275: I tensorflow/compiler/xla/service/service.cc:168] XLA service 0x2bed640 initialized for platform Host (this does not guarantee that XLA will be used). Devices:\n",
            "2020-11-14 04:40:17.460308: I tensorflow/compiler/xla/service/service.cc:176]   StreamExecutor device (0): Host, Default Version\n",
            "2020-11-14 04:40:17.463575: I tensorflow/stream_executor/platform/default/dso_loader.cc:44] Successfully opened dynamic library libcuda.so.1\n",
            "2020-11-14 04:40:17.645527: I tensorflow/stream_executor/cuda/cuda_gpu_executor.cc:983] successful NUMA node read from SysFS had negative value (-1), but there must be at least one NUMA node, so returning NUMA node zero\n",
            "2020-11-14 04:40:17.646272: I tensorflow/compiler/xla/service/service.cc:168] XLA service 0x2becd80 initialized for platform CUDA (this does not guarantee that XLA will be used). Devices:\n",
            "2020-11-14 04:40:17.646303: I tensorflow/compiler/xla/service/service.cc:176]   StreamExecutor device (0): Tesla T4, Compute Capability 7.5\n",
            "2020-11-14 04:40:17.647034: I tensorflow/stream_executor/cuda/cuda_gpu_executor.cc:983] successful NUMA node read from SysFS had negative value (-1), but there must be at least one NUMA node, so returning NUMA node zero\n",
            "2020-11-14 04:40:17.647722: I tensorflow/core/common_runtime/gpu/gpu_device.cc:1618] Found device 0 with properties: \n",
            "name: Tesla T4 major: 7 minor: 5 memoryClockRate(GHz): 1.59\n",
            "pciBusID: 0000:00:04.0\n",
            "2020-11-14 04:40:17.657832: I tensorflow/stream_executor/platform/default/dso_loader.cc:44] Successfully opened dynamic library libcudart.so.10.0\n",
            "2020-11-14 04:40:17.826294: I tensorflow/stream_executor/platform/default/dso_loader.cc:44] Successfully opened dynamic library libcublas.so.10.0\n",
            "2020-11-14 04:40:17.916635: I tensorflow/stream_executor/platform/default/dso_loader.cc:44] Successfully opened dynamic library libcufft.so.10.0\n",
            "2020-11-14 04:40:17.931414: I tensorflow/stream_executor/platform/default/dso_loader.cc:44] Successfully opened dynamic library libcurand.so.10.0\n",
            "2020-11-14 04:40:18.192836: I tensorflow/stream_executor/platform/default/dso_loader.cc:44] Successfully opened dynamic library libcusolver.so.10.0\n",
            "2020-11-14 04:40:18.317735: I tensorflow/stream_executor/platform/default/dso_loader.cc:44] Successfully opened dynamic library libcusparse.so.10.0\n",
            "2020-11-14 04:40:18.819151: I tensorflow/stream_executor/platform/default/dso_loader.cc:44] Successfully opened dynamic library libcudnn.so.7\n",
            "2020-11-14 04:40:18.819346: I tensorflow/stream_executor/cuda/cuda_gpu_executor.cc:983] successful NUMA node read from SysFS had negative value (-1), but there must be at least one NUMA node, so returning NUMA node zero\n",
            "2020-11-14 04:40:18.819995: I tensorflow/stream_executor/cuda/cuda_gpu_executor.cc:983] successful NUMA node read from SysFS had negative value (-1), but there must be at least one NUMA node, so returning NUMA node zero\n",
            "2020-11-14 04:40:18.820492: I tensorflow/core/common_runtime/gpu/gpu_device.cc:1746] Adding visible gpu devices: 0\n",
            "2020-11-14 04:40:18.820705: I tensorflow/stream_executor/platform/default/dso_loader.cc:44] Successfully opened dynamic library libcudart.so.10.0\n",
            "2020-11-14 04:40:18.821927: I tensorflow/core/common_runtime/gpu/gpu_device.cc:1159] Device interconnect StreamExecutor with strength 1 edge matrix:\n",
            "2020-11-14 04:40:18.821956: I tensorflow/core/common_runtime/gpu/gpu_device.cc:1165]      0 \n",
            "2020-11-14 04:40:18.821967: I tensorflow/core/common_runtime/gpu/gpu_device.cc:1178] 0:   N \n",
            "2020-11-14 04:40:18.822306: I tensorflow/stream_executor/cuda/cuda_gpu_executor.cc:983] successful NUMA node read from SysFS had negative value (-1), but there must be at least one NUMA node, so returning NUMA node zero\n",
            "2020-11-14 04:40:18.822888: I tensorflow/stream_executor/cuda/cuda_gpu_executor.cc:983] successful NUMA node read from SysFS had negative value (-1), but there must be at least one NUMA node, so returning NUMA node zero\n",
            "2020-11-14 04:40:18.823400: I tensorflow/core/common_runtime/gpu/gpu_device.cc:1304] Created TensorFlow device (/job:localhost/replica:0/task:0/device:GPU:0 with 14221 MB memory) -> physical GPU (device: 0, name: Tesla T4, pci bus id: 0000:00:04.0, compute capability: 7.5)\n",
            "WARNING:tensorflow:From ./train.py:92: The name tf.placeholder is deprecated. Please use tf.compat.v1.placeholder instead.\n",
            "\n",
            "WARNING:tensorflow:From /content/gpt-2/src/model.py:148: The name tf.variable_scope is deprecated. Please use tf.compat.v1.variable_scope instead.\n",
            "\n",
            "WARNING:tensorflow:From /content/gpt-2/src/model.py:152: The name tf.get_variable is deprecated. Please use tf.compat.v1.get_variable instead.\n",
            "\n",
            "WARNING:tensorflow:From /content/gpt-2/src/model.py:36: The name tf.rsqrt is deprecated. Please use tf.math.rsqrt instead.\n",
            "\n",
            "WARNING:tensorflow:From /content/gpt-2/src/model.py:166: The name tf.add_to_collection is deprecated. Please use tf.compat.v1.add_to_collection instead.\n",
            "\n",
            "WARNING:tensorflow:From /content/gpt-2/src/sample.py:65: to_float (from tensorflow.python.ops.math_ops) is deprecated and will be removed in a future version.\n",
            "Instructions for updating:\n",
            "Use `tf.cast` instead.\n",
            "WARNING:tensorflow:From /content/gpt-2/src/sample.py:16: where (from tensorflow.python.ops.array_ops) is deprecated and will be removed in a future version.\n",
            "Instructions for updating:\n",
            "Use tf.where in 2.0, which has the same broadcast rule as np.where\n",
            "WARNING:tensorflow:From /content/gpt-2/src/sample.py:70: multinomial (from tensorflow.python.ops.random_ops) is deprecated and will be removed in a future version.\n",
            "Instructions for updating:\n",
            "Use `tf.random.categorical` instead.\n",
            "WARNING:tensorflow:From ./train.py:117: The name tf.trainable_variables is deprecated. Please use tf.compat.v1.trainable_variables instead.\n",
            "\n",
            "WARNING:tensorflow:From ./train.py:121: The name tf.train.AdamOptimizer is deprecated. Please use tf.compat.v1.train.AdamOptimizer instead.\n",
            "\n",
            "WARNING:tensorflow:From /content/gpt-2/src/memory_saving_gradients.py:62: get_backward_walk_ops (from tensorflow.contrib.graph_editor.select) is deprecated and will be removed after 2019-06-06.\n",
            "Instructions for updating:\n",
            "Please use tensorflow.python.ops.op_selector.get_backward_walk_ops.\n",
            "WARNING:tensorflow:From /content/gpt-2/src/memory_saving_gradients.py:89: The name tf.get_collection is deprecated. Please use tf.compat.v1.get_collection instead.\n",
            "\n",
            "WARNING:tensorflow:From ./train.py:144: The name tf.summary.scalar is deprecated. Please use tf.compat.v1.summary.scalar instead.\n",
            "\n",
            "WARNING:tensorflow:From ./train.py:147: The name tf.summary.merge is deprecated. Please use tf.compat.v1.summary.merge instead.\n",
            "\n",
            "WARNING:tensorflow:From ./train.py:149: The name tf.summary.FileWriter is deprecated. Please use tf.compat.v1.summary.FileWriter instead.\n",
            "\n",
            "WARNING:tensorflow:From ./train.py:152: The name tf.train.Saver is deprecated. Please use tf.compat.v1.train.Saver instead.\n",
            "\n",
            "WARNING:tensorflow:From ./train.py:156: The name tf.global_variables_initializer is deprecated. Please use tf.compat.v1.global_variables_initializer instead.\n",
            "\n",
            "Loading checkpoint models/345M/model.ckpt\n",
            "Loading dataset...\n",
            "0it [00:00, ?it/s]\n",
            "dataset has 0 tokens\n",
            "Training...\n",
            "Traceback (most recent call last):\n",
            "  File \"./train.py\", line 297, in <module>\n",
            "    main()\n",
            "  File \"./train.py\", line 275, in main\n",
            "    feed_dict={context: sample_batch()})\n",
            "  File \"./train.py\", line 251, in sample_batch\n",
            "    return [data_sampler.sample(1024) for _ in range(args.batch_size)]\n",
            "  File \"./train.py\", line 251, in <listcomp>\n",
            "    return [data_sampler.sample(1024) for _ in range(args.batch_size)]\n",
            "  File \"/content/gpt-2/src/load_dataset.py\", line 74, in sample\n",
            "    self.chunks\n",
            "ZeroDivisionError: integer division or modulo by zero\n",
            "cp: missing destination file operand after '/content/gpt-2/checkpoint/mathbot/content/drive/My Drive/checkpoint'\n",
            "Try 'cp --help' for more information.\n",
            "cp: missing destination file operand after '/content/gpt-2/checkpoint/run1/mathbot/content/gpt-2/models/345M/'\n",
            "Try 'cp --help' for more information.\n"
          ],
          "name": "stdout"
        }
      ]
    },
    {
      "cell_type": "markdown",
      "metadata": {
        "id": "MxNb9c9GzT_T"
      },
      "source": [
        "## Generating Answers"
      ]
    },
    {
      "cell_type": "code",
      "metadata": {
        "id": "o3vD6dX4zd7H",
        "outputId": "2c2661e7-59cc-4047-d461-37020463ba59",
        "colab": {
          "base_uri": "https://localhost:8080/"
        }
      },
      "source": [
        "import os\n",
        "%cd src\n",
        "from conditional_model import conditional_model\n",
        "%cd ..\n",
        "conditional_model??\n",
        "conditional_model(seed=1,sentences=['What is 2+2?','What is algebra?','Who is the senate majority leader?','Hi'])"
      ],
      "execution_count": null,
      "outputs": [
        {
          "output_type": "stream",
          "text": [
            "/content/gpt-2/src\n",
            "/content/gpt-2\n",
            "INFO:tensorflow:Restoring parameters from models/345M/model.ckpt\n",
            "1\n",
            "2\n",
            "3\n",
            "4\n"
          ],
          "name": "stdout"
        },
        {
          "output_type": "execute_result",
          "data": {
            "text/plain": [
              "{'Hi': 'Hi, I\\'m your kind of guy.\" \"My name\\'s Kaidus. Do you know how to get in the city or where to find any of our best stuff?\"\\n\\nTrivia Edit<|endoftext|>Image copyright PA\\n\\nA number of NHS trusts have been hit by a high level of fraud, including Birmingham, Lancashire and Nottinghamshire.\\n\\nThe Serious Fraud Office have said the scale of the crisis in the NHS could be so severe it would take up to five years to clean up.\\n\\nSome trusts are being shut down in defiance of the Treasury and the Health and Social Care Bill.\\n\\nNHS England said services were currently running \"at peak\" levels.\\n\\nImage copyright PA\\n\\nThe SFO found about one in five trusts had \"made serious error of judgement\" in reporting patients to the NHS.\\n\\nThat figure, more than doubling the UK average before it was revealed, was more than triple, compared with six per cent in 2009.\\n\\nA second audit by the HSCB (Independent Scottish Medical Board) earlier this year found some trusts were doing their bit to deal with the crisis.\\n\\nOfsted said some hospitals were being \"significantly re-burdened\" in key regions, while there was an \"overall trend\" towards higher levels of patient numbers entering at their peak.\\n\\nImage copyright TFL Image caption It said \"no-one should have to pay more than other patients\" for \"good health care\"\\n\\nNHS England said it welcomed the \"significant commitment\" from the government in addressing the crisis.\\n\\nChief executive Simon Stevens said: \"To avoid further embarrassment in the run-up to the Autumn Statement, NHS England is working closely with the NHS Improvement Board, health boards, and other bodies to bring the health service back to full operating readiness by the end of the year.\"\\n\\nHe added: \"Our priority remains to give patients the best possible outcomes by investing in long-term, sustainable care. We are not going to be deterred by the latest figures.\"\\n\\nImage copyright PA<|endoftext|>For many years when people tell me how \"hard it is to get hired\" or how \"it won\\'t happen\" to them they are using phrases with different meanings, but there is one thing they all share in common. They have a job to get them to but in the middle of it all that often means putting everything on hold. If you are one of those that puts your full heart and soul into it or even if you have',\n",
              " 'What is 2+2?': 'What is 2+2?\\n\\n\"2+2\" stands for two things; one of the number \\'0\\' and one of the number \\'1\\'. This means that if \\'2\\' occurs as a 1, it occurs immediately after \\'1\\' (hence the second word), while if \\'2\\' occurs as a 0, it can never occur immediately after \\'1\\'.\\n\\nWhat\\'s this about the word \\'dummy\\'?\\n\\n\\'dummy\\' can come in several forms:\\n\\n- A single, non-positive number separated by a blank line.\\n\\n- Any fractional number, where the zero is always a number between 1 and 4, the fraction is always positive and, optionally, the \\'dummy\\' can be omitted (to make the whole number zero) or left unchanged (to make it a real number).\\n\\n- The sequence the \\'dummy\\' is formed from when separated by a blank line.\\n\\nYou\\'d be forgiven for thinking that this is all quite simple and doesn\\'t involve any special math, right? Wrong. A \"dummy\" might not have exactly \"zero\", but when added together, this will equal zero at most 2 in all cases where the 2 is a zero, and the decimal part will become 0 again. This \\'dummy\\' could actually add or subtract as many 0s as it would like. To put it another way, that\\'s what 2+2 actually stands for, it\\'s nothing more than a big trick.\\n\\nHow much difference can they make?\\n\\nThe above diagram only shows the difference between 2 in most cases of what a binary value is supposed to stand for; if the value does change, a big surprise awaits you!\\n\\nThe problem is that there is much more than just the binary representation of a value! You can\\'t \"just add or subtract 0s and count how many\", the decimal part is also a number that gets altered every time the number is \\'dummy\\', and sometimes even a 0 is added and then subtracted.\\n\\nThis is the difference between two decimal points – you\\'re not allowed to \\'just add or subtract 1\\'. It\\'s also called the \\'zero-based\\' aspect of binary numbers.\\n\\nIf you ever wondered why you can\\'t tell a decimal with a 3 in it from a one with a 4, this is because the third part of a 2 + 2 equals 1 – so if you get a 2 or 6 in your result, you really get one, but it will only be the',\n",
              " 'What is algebra?': 'What is algebra?\\n\\nAlgebra can be a tricky subject, but once you understand it you can start making sense of numbers.\\n\\nIn English, the first two syllables of algebra are the \"algebraics\" part, and the last two are the \"number\" part.<|endoftext|>The New Jersey Senate has approved a package of bills to protect gun rights and expand background checks.\\n\\nA House GOP proposal is almost identical to that in the Senate.\\n\\nSome Democrats are concerned the Senate bill would allow too many Americans to have handguns in their homes even now.\\n\\nSenate Majority Leader Loretta Weinberg, D-Bergen, and Senate Minority Leader Ed Rendell, D-Bergen, sponsored a series of bills aimed at bolstering background checks and expanding background checks at gun shows, online and federally.\\n\\n\"There\\'s a legitimate concern that certain individuals who would want to purchase or own firearms are going to be denied access to firearms or that those entities who would receive firearms may hold them at an unsecured location,\" she said.\\n\\nWeinberg also said she\\'s pleased Republicans didn\\'t try to add a sunset clause. Under current law, gun manufacturers don\\'t have to report sales before December and a law signed by President Obama in 2008 limits what can be transferred to the military, the National Rifle Assocation and the FBI.\\n\\nIn addition to a sunset clause, Weinberg said gun control advocates in the Senate plan to vote Monday on background checks for all gun buyers, requiring background checks at gun shows, online and federally. The legislation also would require background checks for private sales over the internet.\\n\\nThe bill is expected to become law. Rendell said it has bipartisan support and \"we\\'re ready and willing to move forward,\" but some gun control advocates in the House said Wednesday they may oppose expanding background checks by adding the sunset clause.\\n\\nRendell also said some Republicans plan to bring the current gun bill to the floor for a final vote while a new proposal by Weinberg would allow for a sunset. Weinberg said the Senate bill would protect gun rights.\\n\\nThere have been a range of gun rights proposals in the House recently.\\n\\nThe bill the House last week approved would have extended background checks only to sales in national parks or places protected under a law in effect the moment before Jan. 19, 2014. That bill still needs to pass again, but the Republican-controlled House is expected to vote Monday on it.\\n\\nSenate Majority Leader Loretta Weinberg, D-',\n",
              " 'Who is the senate majority leader?': \"Who is the senate majority leader?\\n\\nThe senators vote against all bills passed by the Congress. They do not vote on the laws. However, they do occasionally vote on bills which have been passed by the Congress through an executive power or by the senate in secret. For example they voted against a law concerning the foreign mining interests and the war finance legislation.\\n\\nWhat happens in the senate?\\n\\nThe senate votes in secret.\\n\\nWhat will you do if you miss the vote?\\n\\nYou will have to seek a different way of going into the chamber to get your vote. You can get there in an underground tunnel which opens when no one else is around. This is available from all entrances but is very inconvenient. Also there is an old tunnel in the senate chambers and there are also smaller underground tunnels which do not open when nobody is around. If everyone in the chamber is asleep or distracted then the senator does not need to leave his or her mark at all.\\n\\nIn general the voting for every bill can be very unpredictable. Sometimes the senators could abstain and sometimes not because they agreed with a certain policy of another party.\\n\\nWhat do I do if I pass the bill without my mark?\\n\\nYou might think you have the right to refuse passage of a bill or to delay the bill while the senate takes an opinion. To make a full and effective objection you would need to take care of three things:\\n\\nAn application form written in English. A letter written in English with instructions from one who could sign the form. Any documents you believe the author of the bill would need to provide. The name of the bill in question. Your mark will be published in the Senate's archives and will be sent to you by the Senate office of the presiding officer.\\n\\nAll these documents need to be signed by you. You need to present all these signatures in person to the senator or as a postal vote.\\n\\nSome bills do not need to be signed but you may be able to avoid them if you submit only one application form.\\n\\nAll these applications have an extra charge and should be returned to the Senate office of the presiding officer at least four days before the final date to sign.\\n\\nWhen will this happen?\\n\\nThe next date to submit an application is from the day the bill is sent from the Senate to the Parliament. An application in any form other than a written application will only be honored if the author of the bill requests it.\\n\\nWhat are the forms which are not accepted?\\n\\nIt is\"}"
            ]
          },
          "metadata": {
            "tags": []
          },
          "execution_count": 10
        }
      ]
    }
  ]
}